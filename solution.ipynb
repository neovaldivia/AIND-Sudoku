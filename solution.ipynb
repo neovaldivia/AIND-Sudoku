{
 "cells": [
  {
   "cell_type": "code",
   "execution_count": 170,
   "metadata": {
    "collapsed": false,
    "deletable": true,
    "editable": true
   },
   "outputs": [],
   "source": [
    "assignments = []\n",
    "\n",
    "rows = 'ABCDEFGHI'\n",
    "cols = '123456789'\n",
    "\n",
    "def cross(A, B):\n",
    "    \"Cross product of elements in A and elements in B.\"\n",
    "    return [s+t for s in A for t in B]\n",
    "\n",
    "boxes = cross(rows,cols)\n",
    "row_units = [cross(r, cols) for r in rows]\n",
    "\n",
    "column_units = [cross(rows, c) for c in cols]\n",
    "square_units = [cross(rs, cs) for rs in ('ABC','DEF','GHI') for cs in ('123','456','789')]\n",
    " \n",
    "diagonal1 = [[a[0]+a[1] for a in zip(rows,cols)]]\n",
    "diagonal2 = [[a[0]+a[1] for a in zip(rows,cols[::-1])]]\n",
    "diagonals = diagonal1 + diagonal2\n",
    "#print(diagonals)\n",
    "\n",
    "unitlist = row_units + column_units + square_units + diagonals\n",
    "#print(unitlist)\n",
    "units = dict((s, [u for u in unitlist if s in u]) for s in boxes)\n",
    "#print(units)\n",
    "peers = dict((s, set(sum(units[s],[]))-set([s])) for s in boxes)\n",
    "\n",
    "\n",
    "def assign_value(values, box, value):\n",
    "    \"\"\"\n",
    "    Please use this function to update your values dictionary!\n",
    "    Assigns a value to a given box. If it updates the board record it.\n",
    "    \"\"\"\n",
    "\n",
    "    # Don't waste memory appending actions that don't actually change any values\n",
    "    if values[box] == value:\n",
    "        return values\n",
    "\n",
    "    values[box] = value\n",
    "    if len(value) == 1:\n",
    "        assignments.append(values.copy())\n",
    "    return values\n",
    "\n",
    "def naked_twins(values):\n",
    "    \"\"\"Eliminate values using the naked twins strategy.\n",
    "    Args:\n",
    "        values(dict): a dictionary of the form {'box_name': '123456789', ...}\n",
    "    Returns:\n",
    "        the values dictionary with the naked twins eliminated from peers.\n",
    "    \"\"\"\n",
    "    # Find lists of boxes in the same *unit, with *len()=2 \n",
    "    unit_boxes_2digits = [[box for box in unit if len(values[box]) == 2] for unit in unitlist]\n",
    "    print(unit_boxes_2digits)\n",
    "    #Using sample1 generates: [[], [], ['C9'], [], ['E8'], [], ['G8'], ['H8'], ['I8'], [], [], [], [], [], [], [], ['E8', 'G8', 'H8', 'I8'], ['C9'], [], [], ['C9'], [], [], ['E8'], [], [], ['G8', 'H8', 'I8'], ['H8'], []]\n",
    "    \n",
    "    #we should NOT eliminate boxes lists with #boxes with 2-digit values > 2\n",
    "    unit_over2boxes_2digits = [i for i in unit_boxes_2digits if len(i)>1]\n",
    "    print(unit_over2boxes_2digits)\n",
    "    #generates = [['E8', 'G8', 'H8', 'I8'], ['G8', 'H8', 'I8']]\n",
    "        \n",
    "    #Now we need to iterate over each unit_boxes list to find equal values\n",
    "    naked_twins = [[i for i in unit_boxes if values[i]==values[i+1]] for unit_boxes in unit_over2boxes_2digits]\n",
    "    print(naked_twins) \n",
    "    #generates = TypeError: must be str, not int\n",
    "    \n",
    "    # Eliminate the naked twins as possibilities for their peers\n",
    "    \n",
    "    for box1,box2 in naked_twins:\n",
    "        digits = values[box1]\n",
    "        common_peers = list(peers[box1] & peers[box2])\n",
    "        for peer in common_peers:\n",
    "            if len(values[peer])>1 and peer!=box1 and peer!=box2:\n",
    "                values[peer]= values[peer].replace(digits[0],'')\n",
    "                values[peer]= values[peer].replace(digits[1],'')\n",
    "    \n",
    "    return values\n",
    "  \n",
    "    \n",
    "\n",
    "def grid_values(grid):\n",
    "    \"\"\"\n",
    "    Convert grid into a dict of {square: char} with '123456789' for empties.\n",
    "    Args:\n",
    "        grid(string) - A grid in string form.\n",
    "    Returns:\n",
    "        A grid in dictionary form\n",
    "            Keys: The boxes, e.g., 'A1'\n",
    "            Values: The value in each box, e.g., '8'. If the box has no value, then the value will be '123456789'.\n",
    "    \"\"\"\n",
    "    grid = ['123456789' if i=='.' else i for i in  list(grid)]\n",
    "    return dict(zip(boxes,grid))\n",
    "\n",
    "def display(values):\n",
    "    \"\"\"\n",
    "    Display the values as a 2-D grid.\n",
    "    Args:\n",
    "        values(dict): The sudoku in dictionary form\n",
    "    \"\"\"\n",
    "    width = 1+max(len(values[s]) for s in boxes)\n",
    "    line = '+'.join(['-'*(width*3)]*3)\n",
    "    for r in rows:\n",
    "        print(''.join(values[r+c].center(width)+('|' if c in '36' else '')\n",
    "                      for c in cols))\n",
    "        if r in 'CF': print(line)\n",
    "    return\n",
    "\n",
    "def eliminate(values):\n",
    "    single_boxes = [i for i in values.keys() if len(values[i])==1]\n",
    "    \n",
    "    for box in single_boxes:\n",
    "        digit = values[box]\n",
    "        for peer in peers[box]:\n",
    "            values[peer] = values[peer].replace(digit,'')\n",
    "    \n",
    "    return values\n",
    "\n",
    "def only_choice(values):\n",
    "    for unit in unitlist:\n",
    "        for digit in '123456789':\n",
    "            d_place = [box for box in unit if digit in values[box]]\n",
    "            if len(d_place)==1:\n",
    "                values[d_place[0]]=digit\n",
    "    return values\n",
    "\n",
    "def reduce_puzzle(values):\n",
    "    #reduce with eliminate and only_choice ********************NOT naked twins?\n",
    "    \n",
    "    stalled = False\n",
    "    while not stalled:\n",
    "        # Check how many boxes have a determined value\n",
    "        solved_values_before = len([box for box in values.keys() if len(values[box]) == 1])\n",
    "        \n",
    "        # Your code here: Use the Eliminate Strategy\n",
    "        values=eliminate(values)\n",
    "        # Your code here: Use the Only Choice Strategy\n",
    "        values=only_choice(values)\n",
    "        \n",
    "        \n",
    "        # Check how many boxes have a determined value, to compare\n",
    "        solved_values_after = len([box for box in values.keys() if len(values[box]) == 1])\n",
    "        # If no new values were added, stop the loop.\n",
    "        stalled = solved_values_before == solved_values_after\n",
    "        # Sanity check, return False if there is a box with zero available values:\n",
    "        if len([box for box in values.keys() if len(values[box]) == 0]):\n",
    "            return False\n",
    "    return values\n",
    "\n",
    "def search(values):\n",
    "    \"Using depth-first search and propagation, try all possible values.\"\n",
    "    # First, reduce the puzzle using the previous function\n",
    "    values = reduce_puzzle(values)\n",
    "    if values is False:\n",
    "        return False ## Failed earlier\n",
    "    if all(len(values[s]) == 1 for s in boxes): \n",
    "        return values ## Solved!\n",
    "    \n",
    "    # Choose one of the unfilled squares with the fewest possibilities\n",
    "    n,s = min((len(values[s]), s) for s in boxes if len(values[s]) > 1)\n",
    "    \n",
    "    # Now use recurrence to solve each one of the resulting sudokus, and \n",
    "    for value in values[s]:\n",
    "        new_sudoku = values.copy()\n",
    "        new_sudoku[s] = value\n",
    "        attempt = search(new_sudoku)\n",
    "        if attempt:\n",
    "            return attempt\n",
    "\n",
    "def solve(grid):\n",
    "    \"\"\"\n",
    "    Find the solution to a Sudoku grid.\n",
    "    Args:\n",
    "        grid(string): a string representing a sudoku grid.\n",
    "            Example: '2.............62....1....7...6..8...3...9...7...6..4...4....8....52.............3'\n",
    "    Returns:\n",
    "        The dictionary representation of the final sudoku grid. False if no solution exists.\n",
    "    \"\"\"\n",
    "    values=grid_values(grid)\n",
    "    return search(values)\n",
    "    \n",
    "    \n"
   ]
  },
  {
   "cell_type": "code",
   "execution_count": 171,
   "metadata": {
    "collapsed": false
   },
   "outputs": [
    {
     "name": "stdout",
     "output_type": "stream",
     "text": [
      "2 6 7 |9 4 5 |3 8 1 \n",
      "8 5 3 |7 1 6 |2 4 9 \n",
      "4 9 1 |8 2 3 |5 7 6 \n",
      "------+------+------\n",
      "5 7 6 |4 3 8 |1 9 2 \n",
      "3 8 4 |1 9 2 |6 5 7 \n",
      "1 2 9 |6 5 7 |4 3 8 \n",
      "------+------+------\n",
      "6 4 2 |3 7 9 |8 1 5 \n",
      "9 3 5 |2 8 1 |7 6 4 \n",
      "7 1 8 |5 6 4 |9 2 3 \n",
      "We could not visualize your board due to a pygame issue. Not a problem! It is not a requirement.\n"
     ]
    }
   ],
   "source": [
    "if __name__ == '__main__':\n",
    "    diag_sudoku_grid = '2.............62....1....7...6..8...3...9...7...6..4...4....8....52.............3'\n",
    "    display(solve(diag_sudoku_grid))\n",
    "\n",
    "    \n",
    "    before_twins={'I6': '4', 'H9': '3', 'I2': '6', 'E8': '1', 'H3': '5', 'H7': '8', 'I7': '1', 'I4': '8',\n",
    "                            'H5': '6', 'F9': '7', 'G7': '6', 'G6': '3', 'G5': '2', 'E1': '8', 'G3': '1', 'G2': '8',\n",
    "                            'G1': '7', 'I1': '23', 'C8': '5', 'I3': '23', 'E5': '347', 'I5': '5', 'C9': '1', 'G9': '5',\n",
    "                            'G8': '4', 'A1': '1', 'A3': '4', 'A2': '237', 'A5': '9', 'A4': '2357', 'A7': '27',\n",
    "                            'A6': '257', 'C3': '8', 'C2': '237', 'C1': '23', 'E6': '579', 'C7': '9', 'C6': '6',\n",
    "                            'C5': '37', 'C4': '4', 'I9': '9', 'D8': '8', 'I8': '7', 'E4': '6', 'D9': '6', 'H8': '2',\n",
    "                            'F6': '125', 'A9': '8', 'G4': '9', 'A8': '6', 'E7': '345', 'E3': '379', 'F1': '6',\n",
    "                            'F2': '4', 'F3': '23', 'F4': '1235', 'F5': '8', 'E2': '37', 'F7': '35', 'F8': '9',\n",
    "                            'D2': '1', 'H1': '4', 'H6': '17', 'H2': '9', 'H4': '17', 'D3': '2379', 'B4': '27',\n",
    "                            'B5': '1', 'B6': '8', 'B7': '27', 'E9': '2', 'B1': '9', 'B2': '5', 'B3': '6', 'D6': '279',\n",
    "                            'D7': '34', 'D4': '237', 'D5': '347', 'B8': '3', 'B9': '4', 'D1': '5'}\n",
    "    \n",
    "    \n",
    "    recommended_board={\"G7\": \"1569\", \"G6\": \"134568\", \"G5\": \"13568\", \"G4\": \"134568\", \"G3\":\n",
    "\"2\", \"G2\": \"34589\", \"G1\": \"7\", \"G9\": \"5689\", \"G8\": \"15\", \"C9\": \"56\",\n",
    "\"C8\": \"3\", \"C3\": \"7\", \"C2\": \"1245689\", \"C1\": \"1245689\", \"C7\": \"2456\",\n",
    "\"C6\": \"1245689\", \"C5\": \"12568\", \"C4\": \"1245689\", \"E5\": \"4\", \"E4\":\n",
    "\"135689\", \"F1\": \"1234589\", \"F2\": \"12345789\", \"F3\": \"34589\", \"F4\":\n",
    "\"123589\", \"F5\": \"12358\", \"F6\": \"123589\", \"F7\": \"14579\", \"F8\": \"6\",\n",
    "\"F9\": \"3579\", \"B4\": \"1234567\", \"B5\": \"123567\", \"B6\": \"123456\", \"B7\":\n",
    "\"8\", \"B1\": \"123456\", \"B2\": \"123456\", \"B3\": \"345\", \"B8\": \"9\", \"B9\":\n",
    "\"567\", \"I9\": \"578\", \"I8\": \"27\", \"I1\": \"458\", \"I3\": \"6\", \"I2\": \"458\",\n",
    "\"I5\": \"9\", \"I4\": \"124578\", \"I7\": \"3\", \"I6\": \"12458\", \"A1\": \"2345689\",\n",
    "\"A3\": \"34589\", \"A2\": \"2345689\", \"E9\": \"2\", \"A4\": \"23456789\", \"A7\":\n",
    "\"24567\", \"A6\": \"2345689\", \"A9\": \"1\", \"A8\": \"4\", \"E7\": \"159\", \"E6\":\n",
    "\"7\", \"E1\": \"135689\", \"E3\": \"3589\", \"E2\": \"135689\", \"E8\": \"15\", \"A5\":\n",
    "\"235678\", \"H8\": \"27\", \"H9\": \"4\", \"H2\": \"3589\", \"H3\": \"1\", \"H1\":\n",
    "\"3589\", \"H6\": \"23568\", \"H7\": \"25679\", \"H4\": \"235678\", \"H5\": \"235678\",\n",
    "\"D8\": \"8\", \"D9\": \"3579\", \"D6\": \"123569\", \"D7\": \"14579\", \"D4\":\n",
    "\"123569\", \"D5\": \"12356\", \"D2\": \"12345679\", \"D3\": \"3459\", \"D1\":\n",
    "\"1234569\"}\n",
    "    \n",
    "    #x=naked_twins(before_twins1)\n",
    "      \n",
    "    try:\n",
    "        from visualize import visualize_assignments\n",
    "        visualize_assignments(assignments)\n",
    "\n",
    "    except SystemExit:\n",
    "        pass\n",
    "    except:\n",
    "        print('We could not visualize your board due to a pygame issue. Not a problem! It is not a requirement.')"
   ]
  },
  {
   "cell_type": "code",
   "execution_count": 172,
   "metadata": {
    "collapsed": false
   },
   "outputs": [
    {
     "name": "stdout",
     "output_type": "stream",
     "text": [
      " 2345689  2345689   34589  | 23456789  235678  2345689 |  24567      4        1    \n",
      "  123456   123456    345   | 1234567   123567   123456 |    8        9       567   \n",
      " 1245689  1245689     7    | 1245689   12568   1245689 |   2456      3        56   \n",
      "---------------------------+---------------------------+---------------------------\n",
      " 1234569  12345679   3459  |  123569   12356    123569 |  14579      8       3579  \n",
      "  135689   135689    3589  |  135689     4        7    |   159       15       2    \n",
      " 1234589  12345789  34589  |  123589   12358    123589 |  14579      6       3579  \n",
      "---------------------------+---------------------------+---------------------------\n",
      "    7      34589      2    |  134568   13568    134568 |   1569      15      5689  \n",
      "   3589     3589      1    |  235678   235678   23568  |  25679      27       4    \n",
      "   458      458       6    |  124578     9      12458  |    3        27      578   \n"
     ]
    }
   ],
   "source": [
    "display(recommended_board)"
   ]
  },
  {
   "cell_type": "code",
   "execution_count": 173,
   "metadata": {
    "collapsed": false
   },
   "outputs": [
    {
     "name": "stdout",
     "output_type": "stream",
     "text": [
      "[[], [], ['C9'], [], ['E8'], [], ['G8'], ['H8'], ['I8'], [], [], [], [], [], [], [], ['E8', 'G8', 'H8', 'I8'], ['C9'], [], [], ['C9'], [], [], ['E8'], [], [], ['G8', 'H8', 'I8'], ['H8'], []]\n",
      "[['E8', 'G8', 'H8', 'I8'], ['G8', 'H8', 'I8']]\n"
     ]
    },
    {
     "ename": "TypeError",
     "evalue": "must be str, not int",
     "output_type": "error",
     "traceback": [
      "\u001b[1;31m---------------------------------------------------------------------------\u001b[0m",
      "\u001b[1;31mTypeError\u001b[0m                                 Traceback (most recent call last)",
      "\u001b[1;32m<ipython-input-173-e5d44207da29>\u001b[0m in \u001b[0;36m<module>\u001b[1;34m()\u001b[0m\n\u001b[1;32m----> 1\u001b[1;33m \u001b[0mdisplay\u001b[0m\u001b[1;33m(\u001b[0m\u001b[0mnaked_twins\u001b[0m\u001b[1;33m(\u001b[0m\u001b[0mrecommended_board\u001b[0m\u001b[1;33m)\u001b[0m\u001b[1;33m)\u001b[0m\u001b[1;33m\u001b[0m\u001b[0m\n\u001b[0m",
      "\u001b[1;32m<ipython-input-170-8c9ec8e6630b>\u001b[0m in \u001b[0;36mnaked_twins\u001b[1;34m(values)\u001b[0m\n\u001b[0;32m     59\u001b[0m \u001b[1;33m\u001b[0m\u001b[0m\n\u001b[0;32m     60\u001b[0m     \u001b[1;31m#Now we need to compare values\u001b[0m\u001b[1;33m\u001b[0m\u001b[1;33m\u001b[0m\u001b[0m\n\u001b[1;32m---> 61\u001b[1;33m     \u001b[0mnaked_twins\u001b[0m \u001b[1;33m=\u001b[0m \u001b[1;33m[\u001b[0m\u001b[1;33m[\u001b[0m\u001b[0mi\u001b[0m \u001b[1;32mfor\u001b[0m \u001b[0mi\u001b[0m \u001b[1;32min\u001b[0m \u001b[0munit_boxes\u001b[0m \u001b[1;32mif\u001b[0m \u001b[0mvalues\u001b[0m\u001b[1;33m[\u001b[0m\u001b[0mi\u001b[0m\u001b[1;33m]\u001b[0m\u001b[1;33m==\u001b[0m\u001b[0mvalues\u001b[0m\u001b[1;33m[\u001b[0m\u001b[0mi\u001b[0m\u001b[1;33m+\u001b[0m\u001b[1;36m1\u001b[0m\u001b[1;33m]\u001b[0m\u001b[1;33m]\u001b[0m \u001b[1;32mfor\u001b[0m \u001b[0munit_boxes\u001b[0m \u001b[1;32min\u001b[0m \u001b[0munit_over2boxes_2digits\u001b[0m\u001b[1;33m]\u001b[0m\u001b[1;33m\u001b[0m\u001b[0m\n\u001b[0m\u001b[0;32m     62\u001b[0m \u001b[1;33m\u001b[0m\u001b[0m\n\u001b[0;32m     63\u001b[0m     \u001b[0mprint\u001b[0m\u001b[1;33m(\u001b[0m\u001b[0mnaked_twins\u001b[0m\u001b[1;33m)\u001b[0m\u001b[1;33m\u001b[0m\u001b[0m\n",
      "\u001b[1;32m<ipython-input-170-8c9ec8e6630b>\u001b[0m in \u001b[0;36m<listcomp>\u001b[1;34m(.0)\u001b[0m\n\u001b[0;32m     59\u001b[0m \u001b[1;33m\u001b[0m\u001b[0m\n\u001b[0;32m     60\u001b[0m     \u001b[1;31m#Now we need to compare values\u001b[0m\u001b[1;33m\u001b[0m\u001b[1;33m\u001b[0m\u001b[0m\n\u001b[1;32m---> 61\u001b[1;33m     \u001b[0mnaked_twins\u001b[0m \u001b[1;33m=\u001b[0m \u001b[1;33m[\u001b[0m\u001b[1;33m[\u001b[0m\u001b[0mi\u001b[0m \u001b[1;32mfor\u001b[0m \u001b[0mi\u001b[0m \u001b[1;32min\u001b[0m \u001b[0munit_boxes\u001b[0m \u001b[1;32mif\u001b[0m \u001b[0mvalues\u001b[0m\u001b[1;33m[\u001b[0m\u001b[0mi\u001b[0m\u001b[1;33m]\u001b[0m\u001b[1;33m==\u001b[0m\u001b[0mvalues\u001b[0m\u001b[1;33m[\u001b[0m\u001b[0mi\u001b[0m\u001b[1;33m+\u001b[0m\u001b[1;36m1\u001b[0m\u001b[1;33m]\u001b[0m\u001b[1;33m]\u001b[0m \u001b[1;32mfor\u001b[0m \u001b[0munit_boxes\u001b[0m \u001b[1;32min\u001b[0m \u001b[0munit_over2boxes_2digits\u001b[0m\u001b[1;33m]\u001b[0m\u001b[1;33m\u001b[0m\u001b[0m\n\u001b[0m\u001b[0;32m     62\u001b[0m \u001b[1;33m\u001b[0m\u001b[0m\n\u001b[0;32m     63\u001b[0m     \u001b[0mprint\u001b[0m\u001b[1;33m(\u001b[0m\u001b[0mnaked_twins\u001b[0m\u001b[1;33m)\u001b[0m\u001b[1;33m\u001b[0m\u001b[0m\n",
      "\u001b[1;32m<ipython-input-170-8c9ec8e6630b>\u001b[0m in \u001b[0;36m<listcomp>\u001b[1;34m(.0)\u001b[0m\n\u001b[0;32m     59\u001b[0m \u001b[1;33m\u001b[0m\u001b[0m\n\u001b[0;32m     60\u001b[0m     \u001b[1;31m#Now we need to compare values\u001b[0m\u001b[1;33m\u001b[0m\u001b[1;33m\u001b[0m\u001b[0m\n\u001b[1;32m---> 61\u001b[1;33m     \u001b[0mnaked_twins\u001b[0m \u001b[1;33m=\u001b[0m \u001b[1;33m[\u001b[0m\u001b[1;33m[\u001b[0m\u001b[0mi\u001b[0m \u001b[1;32mfor\u001b[0m \u001b[0mi\u001b[0m \u001b[1;32min\u001b[0m \u001b[0munit_boxes\u001b[0m \u001b[1;32mif\u001b[0m \u001b[0mvalues\u001b[0m\u001b[1;33m[\u001b[0m\u001b[0mi\u001b[0m\u001b[1;33m]\u001b[0m\u001b[1;33m==\u001b[0m\u001b[0mvalues\u001b[0m\u001b[1;33m[\u001b[0m\u001b[0mi\u001b[0m\u001b[1;33m+\u001b[0m\u001b[1;36m1\u001b[0m\u001b[1;33m]\u001b[0m\u001b[1;33m]\u001b[0m \u001b[1;32mfor\u001b[0m \u001b[0munit_boxes\u001b[0m \u001b[1;32min\u001b[0m \u001b[0munit_over2boxes_2digits\u001b[0m\u001b[1;33m]\u001b[0m\u001b[1;33m\u001b[0m\u001b[0m\n\u001b[0m\u001b[0;32m     62\u001b[0m \u001b[1;33m\u001b[0m\u001b[0m\n\u001b[0;32m     63\u001b[0m     \u001b[0mprint\u001b[0m\u001b[1;33m(\u001b[0m\u001b[0mnaked_twins\u001b[0m\u001b[1;33m)\u001b[0m\u001b[1;33m\u001b[0m\u001b[0m\n",
      "\u001b[1;31mTypeError\u001b[0m: must be str, not int"
     ]
    }
   ],
   "source": [
    "display(naked_twins(recommended_board))"
   ]
  },
  {
   "cell_type": "code",
   "execution_count": 141,
   "metadata": {
    "collapsed": false
   },
   "outputs": [
    {
     "data": {
      "text/plain": [
       "('27', '27')"
      ]
     },
     "execution_count": 141,
     "metadata": {},
     "output_type": "execute_result"
    }
   ],
   "source": [
    "recommended_board['H8'],recommended_board['I8']"
   ]
  },
  {
   "cell_type": "code",
   "execution_count": null,
   "metadata": {
    "collapsed": true
   },
   "outputs": [],
   "source": []
  },
  {
   "cell_type": "code",
   "execution_count": null,
   "metadata": {
    "collapsed": true
   },
   "outputs": [],
   "source": []
  },
  {
   "cell_type": "code",
   "execution_count": null,
   "metadata": {
    "collapsed": false
   },
   "outputs": [],
   "source": []
  },
  {
   "cell_type": "code",
   "execution_count": null,
   "metadata": {
    "collapsed": false
   },
   "outputs": [],
   "source": []
  },
  {
   "cell_type": "code",
   "execution_count": null,
   "metadata": {
    "collapsed": true
   },
   "outputs": [],
   "source": []
  }
 ],
 "metadata": {
  "kernelspec": {
   "display_name": "Python 3",
   "language": "python",
   "name": "python3"
  },
  "language_info": {
   "codemirror_mode": {
    "name": "ipython",
    "version": 3
   },
   "file_extension": ".py",
   "mimetype": "text/x-python",
   "name": "python",
   "nbconvert_exporter": "python",
   "pygments_lexer": "ipython3",
   "version": "3.6.0"
  }
 },
 "nbformat": 4,
 "nbformat_minor": 2
}
